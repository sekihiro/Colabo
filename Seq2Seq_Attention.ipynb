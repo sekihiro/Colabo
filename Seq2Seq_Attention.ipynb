{
  "nbformat": 4,
  "nbformat_minor": 0,
  "metadata": {
    "colab": {
      "name": "Seq2Seq_Attention.ipynb",
      "provenance": [],
      "collapsed_sections": [],
      "toc_visible": true,
      "include_colab_link": true
    },
    "kernelspec": {
      "name": "python3",
      "display_name": "Python 3"
    },
    "accelerator": "GPU"
  },
  "cells": [
    {
      "cell_type": "markdown",
      "metadata": {
        "id": "view-in-github",
        "colab_type": "text"
      },
      "source": [
        "<a href=\"https://colab.research.google.com/github/sekihiro/Colabo/blob/master/Seq2Seq_Attention.ipynb\" target=\"_parent\"><img src=\"https://colab.research.google.com/assets/colab-badge.svg\" alt=\"Open In Colab\"/></a>"
      ]
    },
    {
      "cell_type": "markdown",
      "metadata": {
        "id": "SUS0ES-lfiQj",
        "colab_type": "text"
      },
      "source": [
        "# PyTorchでAttention-Seq2Seq\n",
        "- 様々な日付の書き方をYYYY-MM-DDのフォーマットに変換\n",
        "- https://qiita.com/m__k/items/646044788c5f94eadc8d\n",
        "- Attentionのざっくり説明\n",
        " - Encoder側の各隠れ層の値をすべてDecoder側の各層に渡す\n",
        " - Decoder側の各層において、Encoder側から渡された各隠れ層のベクトルのうち、最も注意すべきベクトルを選び出して特徴に加える"
      ]
    },
    {
      "cell_type": "code",
      "metadata": {
        "id": "U3RPFPKsfnEZ",
        "colab_type": "code",
        "outputId": "9fe3adcc-1739-465a-bcaa-4fd8d9c8f3a6",
        "colab": {
          "base_uri": "https://localhost:8080/",
          "height": 35
        }
      },
      "source": [
        "from google.colab import drive\n",
        "drive.mount('/content/drive')"
      ],
      "execution_count": 10,
      "outputs": [
        {
          "output_type": "stream",
          "text": [
            "Drive already mounted at /content/drive; to attempt to forcibly remount, call drive.mount(\"/content/drive\", force_remount=True).\n"
          ],
          "name": "stdout"
        }
      ]
    },
    {
      "cell_type": "code",
      "metadata": {
        "id": "3EbduvF5bQzn",
        "colab_type": "code",
        "outputId": "1dda1868-1c9f-46a7-9260-1c51dcc44a64",
        "colab": {
          "base_uri": "https://localhost:8080/",
          "height": 503
        }
      },
      "source": [
        "!nvidia-smi\n",
        "!nvcc -V\n",
        "!cat /usr/include/cudnn.h | grep CUDNN_MAJOR -A 2"
      ],
      "execution_count": 11,
      "outputs": [
        {
          "output_type": "stream",
          "text": [
            "Sat Feb 22 14:03:33 2020       \n",
            "+-----------------------------------------------------------------------------+\n",
            "| NVIDIA-SMI 440.48.02    Driver Version: 418.67       CUDA Version: 10.1     |\n",
            "|-------------------------------+----------------------+----------------------+\n",
            "| GPU  Name        Persistence-M| Bus-Id        Disp.A | Volatile Uncorr. ECC |\n",
            "| Fan  Temp  Perf  Pwr:Usage/Cap|         Memory-Usage | GPU-Util  Compute M. |\n",
            "|===============================+======================+======================|\n",
            "|   0  Tesla P100-PCIE...  Off  | 00000000:00:04.0 Off |                    0 |\n",
            "| N/A   45C    P0    34W / 250W |    735MiB / 16280MiB |      0%      Default |\n",
            "+-------------------------------+----------------------+----------------------+\n",
            "                                                                               \n",
            "+-----------------------------------------------------------------------------+\n",
            "| Processes:                                                       GPU Memory |\n",
            "|  GPU       PID   Type   Process name                             Usage      |\n",
            "|=============================================================================|\n",
            "+-----------------------------------------------------------------------------+\n",
            "nvcc: NVIDIA (R) Cuda compiler driver\n",
            "Copyright (c) 2005-2018 NVIDIA Corporation\n",
            "Built on Sat_Aug_25_21:08:01_CDT_2018\n",
            "Cuda compilation tools, release 10.0, V10.0.130\n",
            "#define CUDNN_MAJOR 7\n",
            "#define CUDNN_MINOR 6\n",
            "#define CUDNN_PATCHLEVEL 5\n",
            "--\n",
            "#define CUDNN_VERSION (CUDNN_MAJOR * 1000 + CUDNN_MINOR * 100 + CUDNN_PATCHLEVEL)\n",
            "\n",
            "#include \"driver_types.h\"\n"
          ],
          "name": "stdout"
        }
      ]
    },
    {
      "cell_type": "code",
      "metadata": {
        "id": "CieEjoH_hegL",
        "colab_type": "code",
        "colab": {}
      },
      "source": [
        "import os\n",
        "import sys\n",
        "import pprint\n",
        "import random\n",
        "import numpy as np\n",
        "import pandas as pd\n",
        "import seaborn as sns\n",
        "from sklearn.model_selection import train_test_split\n",
        "from sklearn.utils import shuffle\n",
        "import torch\n",
        "import torch.nn as nn\n",
        "import torch.optim as optim\n",
        "from IPython.display import Image, display_png\n",
        "import matplotlib.pyplot as plt\n",
        "%matplotlib inline"
      ],
      "execution_count": 0,
      "outputs": []
    },
    {
      "cell_type": "code",
      "metadata": {
        "id": "UpNFRNqnyWM5",
        "colab_type": "code",
        "outputId": "5bf66126-1b32-4f09-d663-47e66a54dac9",
        "colab": {
          "base_uri": "https://localhost:8080/",
          "height": 53
        }
      },
      "source": [
        "# 再現性確保\n",
        "def seed_everything(seed=1234):\n",
        "    random.seed(seed)\n",
        "    np.random.seed(seed)\n",
        "    torch.manual_seed(seed)\n",
        "    torch.cuda.manual_seed(seed)\n",
        "    torch.backends.cudnn.deterministic = True\n",
        "    return seed\n",
        "\n",
        "# 再現性確保\n",
        "ret = seed_everything(1234)\n",
        "print('seed : {}'.format(ret))\n",
        "\n",
        "# select device\n",
        "device = 'cuda' if torch.cuda.is_available() else 'cpu'\n",
        "print('device : {}'.format(device))"
      ],
      "execution_count": 25,
      "outputs": [
        {
          "output_type": "stream",
          "text": [
            "seed : 1234\n",
            "device : cuda\n"
          ],
          "name": "stdout"
        }
      ]
    },
    {
      "cell_type": "markdown",
      "metadata": {
        "id": "bOJMhAD7LYuv",
        "colab_type": "text"
      },
      "source": [
        "### 定数定義"
      ]
    },
    {
      "cell_type": "code",
      "metadata": {
        "id": "bVtURf56jP4J",
        "colab_type": "code",
        "colab": {}
      },
      "source": [
        "BASE_PATH = \"/content/drive/My Drive/git/data_conversion/\"\n",
        "FILE_PATH = BASE_PATH + 'date_conversion.txt'\n",
        "\n",
        "TRAIN_RATIO = 0.7\n",
        "\n",
        "DATA_CNT = 50000\n",
        "#DATA_CNT = 10\n",
        "\n",
        "BATCH_NUM = 100\n",
        "EPOCH_NUM = 50\n",
        "#BATCH_NUM = 2\n",
        "#EPOCH_NUM = 1\n",
        "\n",
        "embedding_dim = 200 # 文字の埋め込み次元数\n",
        "hidden_dim = 128 # LSTMの隠れ層のサイズ"
      ],
      "execution_count": 0,
      "outputs": []
    },
    {
      "cell_type": "markdown",
      "metadata": {
        "id": "kvG8C99GmzVd",
        "colab_type": "text"
      },
      "source": [
        "## データ準備\n",
        "- https://github.com/oreilly-japan/deep-learning-from-scratch-2/tree/master/dataset\n"
      ]
    },
    {
      "cell_type": "code",
      "metadata": {
        "id": "TgOXQACaVXYi",
        "colab_type": "code",
        "outputId": "97b570df-f226-4a54-c162-98f83e65d1ac",
        "colab": {
          "base_uri": "https://localhost:8080/",
          "height": 237
        }
      },
      "source": [
        "display_png(Image(\"/content/drive/My Drive/git/images/date_conversion.png\"))\n",
        "# 下記のような変換を行う"
      ],
      "execution_count": 27,
      "outputs": [
        {
          "output_type": "display_data",
          "data": {
            "image/png": "[encoded data removed]"
          },
          "metadata": {
            "tags": []
          }
        }
      ]
    },
    {
      "cell_type": "code",
      "metadata": {
        "id": "cFoZaAfPToba",
        "colab_type": "code",
        "outputId": "a35523c7-b84b-44bd-ba90-db98ab9151f0",
        "colab": {
          "base_uri": "https://localhost:8080/",
          "height": 325
        }
      },
      "source": [
        "input_date = [] # 変換前の日付データ\n",
        "output_date = [] # 変換後の日付データ\n",
        "\n",
        "# date_conversion.txtを1行ずつ読み込んで変換前と変換後に分割して、inputとoutputで分ける\n",
        "with open(FILE_PATH, \"r\") as f:\n",
        "    date_list = f.readlines()\n",
        "    for i, date in enumerate(date_list):\n",
        "        date = date[:-1]\n",
        "        if i <= 1:\n",
        "            print('date = ({})'.format(date))\n",
        "        input_date.append(date.split(\"_\")[0])\n",
        "        output_date.append(\"_\" + date.split(\"_\")[1])\n",
        "\n",
        "print('input_date = [{}, {}, ・・・'.format(input_date[0], input_date[1]))\n",
        "print('output_date = [{}, {}, ・・・'.format(output_date[0], output_date[1]))\n",
        "\n",
        "# inputとoutputの系列の長さを取得\n",
        "# すべて長さが同じなので、0番目の要素でlenを取ってます\n",
        "input_len = len(input_date[0]) # 29\n",
        "output_len = len(output_date[0]) # 10\n",
        "\n",
        "# date.txtで登場するすべての文字にIDを割り当てる\n",
        "char2id = {}\n",
        "for input_chars, output_chars in zip(input_date, output_date):\n",
        "    for c in input_chars:\n",
        "        if not c in char2id:\n",
        "            char2id[c] = len(char2id)\n",
        "    for c in output_chars:\n",
        "        if not c in char2id:\n",
        "            char2id[c] = len(char2id)\n",
        "print('\\nlen(char2id) = {}'.format(len(char2id)))\n",
        "print(char2id)\n",
        "print('\\n')\n",
        "\n",
        "input_data = [] # ID化された変換前日付データ\n",
        "output_data = [] # ID化された変換後日付データ\n",
        "for input_chars, output_chars in zip(input_date, output_date):\n",
        "    input_data.append([char2id[c] for c in input_chars])\n",
        "    output_data.append([char2id[c] for c in output_chars])\n",
        "print('input_data = [{}, {}, ・・・'.format(input_data[0], input_data[1]))\n",
        "print('output_data = [{}, {}, ・・・'.format(output_data[0], output_data[1]))\n",
        "\n",
        "# 7:3でtrainとtestに分ける\n",
        "train_x, test_x, train_y, test_y = train_test_split(input_data, output_data, train_size= TRAIN_RATIO)\n",
        "print('\\nlen(train_x) = {:,}'.format(len(train_x)))\n",
        "print('len(train_y) = {:,}'.format(len(train_y)))\n",
        "print('len(test_x)  = {:,}'.format(len(test_x)))\n",
        "print('len(test_y)  = {:,}'.format(len(test_y)))"
      ],
      "execution_count": 28,
      "outputs": [
        {
          "output_type": "stream",
          "text": [
            "date = (september 27, 1994           _1994-09-27)\n",
            "date = (August 19, 2003              _2003-08-19)\n",
            "input_date = [september 27, 1994           , August 19, 2003              , ・・・\n",
            "output_date = [_1994-09-27, _2003-08-19, ・・・\n",
            "\n",
            "len(char2id) = 59\n",
            "{'s': 0, 'e': 1, 'p': 2, 't': 3, 'm': 4, 'b': 5, 'r': 6, ' ': 7, '2': 8, '7': 9, ',': 10, '1': 11, '9': 12, '4': 13, '_': 14, '-': 15, '0': 16, 'A': 17, 'u': 18, 'g': 19, '3': 20, '8': 21, '/': 22, 'T': 23, 'U': 24, 'E': 25, 'S': 26, 'D': 27, 'Y': 28, 'P': 29, 'M': 30, 'B': 31, 'R': 32, '5': 33, 'J': 34, 'N': 35, '6': 36, 'a': 37, 'i': 38, 'l': 39, 'O': 40, 'c': 41, 'o': 42, 'G': 43, 'F': 44, 'y': 45, 'n': 46, 'C': 47, 'W': 48, 'd': 49, 'I': 50, 'L': 51, 'j': 52, 'H': 53, 'v': 54, 'h': 55, 'V': 56, 'f': 57, 'w': 58}\n",
            "\n",
            "\n",
            "input_data = [[0, 1, 2, 3, 1, 4, 5, 1, 6, 7, 8, 9, 10, 7, 11, 12, 12, 13, 7, 7, 7, 7, 7, 7, 7, 7, 7, 7, 7], [17, 18, 19, 18, 0, 3, 7, 11, 12, 10, 7, 8, 16, 16, 20, 7, 7, 7, 7, 7, 7, 7, 7, 7, 7, 7, 7, 7, 7], ・・・\n",
            "output_data = [[14, 11, 12, 12, 13, 15, 16, 12, 15, 8, 9], [14, 8, 16, 16, 20, 15, 16, 21, 15, 11, 12], ・・・\n",
            "\n",
            "len(train_x) = 35,000\n",
            "len(train_y) = 35,000\n",
            "len(test_x)  = 15,000\n",
            "len(test_y)  = 15,000\n"
          ],
          "name": "stdout"
        }
      ]
    },
    {
      "cell_type": "code",
      "metadata": {
        "id": "9q4n0UIlTqdp",
        "colab_type": "code",
        "colab": {}
      },
      "source": [
        "# データをバッチ化するための関数を定義\n",
        "def train2batch(input_data, output_data, batch_size=BATCH_NUM):\n",
        "    input_batch = []\n",
        "    output_batch = []\n",
        "    input_shuffle, output_shuffle = shuffle(input_data, output_data)\n",
        "    for i in range(0, len(input_data), batch_size):\n",
        "        input_batch.append(input_shuffle[i:i+batch_size])\n",
        "        output_batch.append(output_shuffle[i:i+batch_size])\n",
        "\n",
        "    return input_batch, output_batch"
      ],
      "execution_count": 0,
      "outputs": []
    },
    {
      "cell_type": "markdown",
      "metadata": {
        "id": "gRcsu1f8WVL7",
        "colab_type": "text"
      },
      "source": [
        "## Encoder"
      ]
    },
    {
      "cell_type": "code",
      "metadata": {
        "id": "7mQpdVB1T1XP",
        "colab_type": "code",
        "colab": {}
      },
      "source": [
        "vocab_size = len(char2id) # 扱う文字の数\n",
        "\n",
        "# Encoderクラス\n",
        "class Encoder(nn.Module):\n",
        "\n",
        "    def __init__(self, vocab_size, embedding_dim, hidden_dim):\n",
        "        # 親クラスのコンストラクタ。決まり文句\n",
        "        super(Encoder, self).__init__()\n",
        "        # 隠れ層の次元数\n",
        "        self.hidden_dim = hidden_dim\n",
        "        # インプットの単語をベクトル化するために使う\n",
        "        self.word_embeddings = nn.Embedding(vocab_size, embedding_dim, padding_idx=char2id[\" \"])\n",
        "        # 隠れ層\n",
        "        # 少しでも楽したいので、LSTMはGRU(Gated Recurrent Unit)に変えてます\n",
        "        # GRUとは、LSTMの忘却ゲートと入力ゲートを単一の更新ゲートにマージし\n",
        "        # 隠れ状態のみを伝達していくニューラルネットワークのモデル\n",
        "        # GRUのメリットは、LSTMと比べて学習パラメータが少ないためより短い時間で学習することができるという点に\n",
        "        self.gru = nn.GRU(embedding_dim, hidden_dim, batch_first=True)\n",
        "\n",
        "    def forward(self, sequence):\n",
        "        # 文章内の各単語をベクトル化して出力。\n",
        "        embedding = self.word_embeddings(sequence)\n",
        "        # hsが各系列のGRUの隠れ層のベクトル\n",
        "        # Attentionされる要素\n",
        "        hs, h = self.gru(embedding)\n",
        "    \n",
        "        return hs, h"
      ],
      "execution_count": 0,
      "outputs": []
    },
    {
      "cell_type": "markdown",
      "metadata": {
        "id": "oO4rWWVWWgEn",
        "colab_type": "text"
      },
      "source": [
        "## Decoder"
      ]
    },
    {
      "cell_type": "code",
      "metadata": {
        "id": "kzuJIjVkT1ER",
        "colab_type": "code",
        "colab": {}
      },
      "source": [
        "# Attention Decoderクラス\n",
        "class AttentionDecoder(nn.Module):\n",
        "    def __init__(self, vocab_size, embedding_dim, hidden_dim, batch_size):\n",
        "        super(AttentionDecoder, self).__init__()\n",
        "        self.hidden_dim = hidden_dim\n",
        "        self.batch_size = batch_size\n",
        "        self.word_embeddings = nn.Embedding(vocab_size, embedding_dim, padding_idx=char2id[\" \"])\n",
        "        self.gru = nn.GRU(embedding_dim, hidden_dim, batch_first=True)\n",
        "        # hidden_dim*2としているのは、各系列のGRUの隠れ層とAttention層で計算したコンテキストベクトルをtorch.catでつなぎ合わせることで長さが２倍になるため\n",
        "        self.hidden2linear = nn.Linear(hidden_dim * 2, vocab_size)\n",
        "        # 列方向を確率変換したいのでdim=1\n",
        "        self.softmax = nn.Softmax(dim=1)\n",
        "\n",
        "    def forward(self, sequence, hs, h):\n",
        "        embedding = self.word_embeddings(sequence)\n",
        "        output, state = self.gru(embedding, h)\n",
        "\n",
        "        # Attention層\n",
        "        # hs.size() = ([100, 29, 128])\n",
        "        # output.size() = ([100, 10, 128])\n",
        "\n",
        "        # bmmを使ってEncoder側の出力(hs)とDecoder側の出力(output)をbatchごとまとめて行列計算するために、Decoder側のoutputをbatchを固定して転置行列を取る\n",
        "        t_output = torch.transpose(output, 1, 2) # t_output.size() = ([100, 128, 10])\n",
        "\n",
        "        # bmmでバッチも考慮してまとめて行列計算\n",
        "        s = torch.bmm(hs, t_output) # s.size() = ([100, 29, 10])\n",
        "\n",
        "        # 列方向(dim=1)でsoftmaxをとって確率表現に変換\n",
        "        # この値を後のAttentionの可視化などにも使うため、returnで返しておく\n",
        "        attention_weight = self.softmax(s) # attention_weight.size() = ([100, 29, 10])\n",
        "\n",
        "        # コンテキストベクトルをまとめるために入れ物を用意\n",
        "        c = torch.zeros(self.batch_size, 1, self.hidden_dim, device=device) # c.size() = ([100, 1, 128])\n",
        "\n",
        "        # 各DecoderのGRU層に対するコンテキストベクトルをまとめて計算する方法がわからなかったので、\n",
        "        # 各層（Decoder側のGRU層は生成文字列が10文字なので10個ある）におけるattention weightを取り出してforループ内でコンテキストベクトルを１つずつ作成する\n",
        "        # バッチ方向はまとめて計算できたのでバッチはそのまま\n",
        "        for i in range(attention_weight.size()[2]): # 10回ループ\n",
        "\n",
        "            # attention_weight[:,:,i].size() = ([100, 29])\n",
        "            # i番目のGRU層に対するattention weightを取り出すが、テンソルのサイズをhsと揃えるためにunsqueezeする\n",
        "            unsq_weight = attention_weight[:,:,i].unsqueeze(2) # unsq_weight.size() = ([100, 29, 1])\n",
        "\n",
        "            # hsの各ベクトルをattention weightで重み付けする\n",
        "            weighted_hs = hs * unsq_weight # weighted_hs.size() = ([100, 29, 128])\n",
        "\n",
        "            # attention weightで重み付けされた各hsのベクトルをすべて足し合わせてコンテキストベクトルを作成\n",
        "            weight_sum = torch.sum(weighted_hs, axis=1).unsqueeze(1) # weight_sum.size() = ([100, 1, 128])\n",
        "\n",
        "            c = torch.cat([c, weight_sum], dim=1) # c.size() = ([100, i, 128])\n",
        "\n",
        "        # 箱として用意したzero要素が残っているのでスライスして削除\n",
        "        c = c[:,1:,:]\n",
        "\n",
        "        output = torch.cat([output, c], dim=2) # output.size() = ([100, 10, 256])\n",
        "        output = self.hidden2linear(output)\n",
        "\n",
        "        return output, state, attention_weight"
      ],
      "execution_count": 0,
      "outputs": []
    },
    {
      "cell_type": "markdown",
      "metadata": {
        "id": "ZYBks0J_WnJI",
        "colab_type": "text"
      },
      "source": [
        "## モデル宣言、損失関数、最適化"
      ]
    },
    {
      "cell_type": "code",
      "metadata": {
        "id": "wecQDpMBT01M",
        "colab_type": "code",
        "colab": {}
      },
      "source": [
        "encoder = Encoder(vocab_size, embedding_dim, hidden_dim).to(device)\n",
        "attn_decoder = AttentionDecoder(vocab_size, embedding_dim, hidden_dim, BATCH_NUM).to(device)\n",
        "\n",
        "# 損失関数\n",
        "criterion = nn.CrossEntropyLoss()\n",
        "\n",
        "# 最適化\n",
        "encoder_optimizer = optim.Adam(encoder.parameters(), lr=0.001)\n",
        "attn_decoder_optimizer = optim.Adam(attn_decoder.parameters(), lr=0.001)"
      ],
      "execution_count": 0,
      "outputs": []
    },
    {
      "cell_type": "markdown",
      "metadata": {
        "id": "R_2pDcKrWsue",
        "colab_type": "text"
      },
      "source": [
        "## 学習"
      ]
    },
    {
      "cell_type": "code",
      "metadata": {
        "id": "8JRXzXlfW1yl",
        "colab_type": "code",
        "outputId": "eacc4214-dad8-406d-b609-9ca7bcc35e06",
        "colab": {
          "base_uri": "https://localhost:8080/",
          "height": 971
        }
      },
      "source": [
        "all_losses = []\n",
        "print(\"training ...\")\n",
        "\n",
        "for epoch in range(1, EPOCH_NUM+1):\n",
        "\n",
        "    epoch_loss = 0 # epoch毎のloss\n",
        "\n",
        "    # データをミニバッチに分ける\n",
        "    # train_x : 変換前文字列\n",
        "    # train_y : 変換後文字列\n",
        "    input_batch, output_batch = train2batch(train_x, train_y, batch_size=BATCH_NUM)\n",
        "\n",
        "    for i in range(len(input_batch)):\n",
        "\n",
        "        # 勾配の初期化\n",
        "        # モデルが持ってる勾配の情報をリセット\n",
        "        # 毎回バックプロパゲーションの初期値をリセット(勾配リセット)\n",
        "        encoder_optimizer.zero_grad()\n",
        "        attn_decoder_optimizer.zero_grad()\n",
        "\n",
        "        # データをテンソルに変換\n",
        "        input_tensor = torch.tensor(input_batch[i], device=device)\n",
        "        output_tensor = torch.tensor(output_batch[i], device=device)\n",
        "\n",
        "        # Encoderの順伝搬(forwardが呼ばれる)\n",
        "        hs, h = encoder(input_tensor)\n",
        "\n",
        "        # Attention Decoderのインプット\n",
        "        source = output_tensor[:, :-1]\n",
        "\n",
        "        # Attention Decoderの正解データ\n",
        "        target = output_tensor[:, 1:]\n",
        "\n",
        "        loss = 0\n",
        "        decoder_output, _, attention_weight= attn_decoder(source, hs, h)\n",
        "        for j in range(decoder_output.size()[1]):\n",
        "            # バッチ毎にまとめてloss計算\n",
        "            loss += criterion(decoder_output[:, j, :], target[:, j])\n",
        "\n",
        "        epoch_loss += loss.item()\n",
        "\n",
        "        # 誤差逆伝播\n",
        "        # 誤差のバックプロパゲーション(逆伝播)で勾配を求める\n",
        "        loss.backward()\n",
        "\n",
        "        # パラメータ更新\n",
        "        # Encoder、Decoder両方学習\n",
        "        # バックプロパゲーションで計算した勾配を元に重みを更新\n",
        "        encoder_optimizer.step()\n",
        "        attn_decoder_optimizer.step()\n",
        "\n",
        "    # 損失を表示\n",
        "    print(\"Epoch {} : loss -> {:.5f}\".format(epoch, epoch_loss))\n",
        "    all_losses.append(epoch_loss)\n",
        "    #if epoch_loss < 0.1: break\n",
        "\n",
        "print(\"\\n Done ... \")"
      ],
      "execution_count": 33,
      "outputs": [
        {
          "output_type": "stream",
          "text": [
            "training ...\n",
            "Epoch 1 : loss -> 1606.11248\n",
            "Epoch 2 : loss -> 83.32915\n",
            "Epoch 3 : loss -> 40.94904\n",
            "Epoch 4 : loss -> 4.41860\n",
            "Epoch 5 : loss -> 2.15113\n",
            "Epoch 6 : loss -> 1.42788\n",
            "Epoch 7 : loss -> 12.20765\n",
            "Epoch 8 : loss -> 2.39774\n",
            "Epoch 9 : loss -> 1.00541\n",
            "Epoch 10 : loss -> 0.64023\n",
            "Epoch 11 : loss -> 0.44977\n",
            "Epoch 12 : loss -> 0.33413\n",
            "Epoch 13 : loss -> 0.25694\n",
            "Epoch 14 : loss -> 0.20159\n",
            "Epoch 15 : loss -> 0.16055\n",
            "Epoch 16 : loss -> 0.12928\n",
            "Epoch 17 : loss -> 0.10493\n",
            "Epoch 18 : loss -> 0.08559\n",
            "Epoch 19 : loss -> 0.07016\n",
            "Epoch 20 : loss -> 0.05771\n",
            "Epoch 21 : loss -> 0.04767\n",
            "Epoch 22 : loss -> 0.03937\n",
            "Epoch 23 : loss -> 0.03257\n",
            "Epoch 24 : loss -> 0.02703\n",
            "Epoch 25 : loss -> 0.02247\n",
            "Epoch 26 : loss -> 0.01866\n",
            "Epoch 27 : loss -> 0.01552\n",
            "Epoch 28 : loss -> 0.01286\n",
            "Epoch 29 : loss -> 0.01076\n",
            "Epoch 30 : loss -> 0.00902\n",
            "Epoch 31 : loss -> 0.00748\n",
            "Epoch 32 : loss -> 0.00618\n",
            "Epoch 33 : loss -> 0.00504\n",
            "Epoch 34 : loss -> 0.00413\n",
            "Epoch 35 : loss -> 0.00339\n",
            "Epoch 36 : loss -> 0.00278\n",
            "Epoch 37 : loss -> 0.00225\n",
            "Epoch 38 : loss -> 0.00181\n",
            "Epoch 39 : loss -> 0.00152\n",
            "Epoch 40 : loss -> 0.00123\n",
            "Epoch 41 : loss -> 0.00102\n",
            "Epoch 42 : loss -> 0.00082\n",
            "Epoch 43 : loss -> 0.00061\n",
            "Epoch 44 : loss -> 0.00047\n",
            "Epoch 45 : loss -> 0.00039\n",
            "Epoch 46 : loss -> 0.00034\n",
            "Epoch 47 : loss -> 0.00029\n",
            "Epoch 48 : loss -> 0.00025\n",
            "Epoch 49 : loss -> 0.00022\n",
            "Epoch 50 : loss -> 0.00018\n",
            "\n",
            " Done ... \n"
          ],
          "name": "stdout"
        }
      ]
    },
    {
      "cell_type": "markdown",
      "metadata": {
        "id": "H7OzdcUzW2lP",
        "colab_type": "text"
      },
      "source": [
        "## 損失可視化"
      ]
    },
    {
      "cell_type": "code",
      "metadata": {
        "id": "_5mnyLgwWuR9",
        "colab_type": "code",
        "outputId": "345a643d-0a30-40bb-99e0-c5aa23964eed",
        "colab": {
          "base_uri": "https://localhost:8080/",
          "height": 283
        }
      },
      "source": [
        "plt.plot(all_losses)"
      ],
      "execution_count": 34,
      "outputs": [
        {
          "output_type": "execute_result",
          "data": {
            "text/plain": [
              "[<matplotlib.lines.Line2D at 0x7f3501fe0518>]"
            ]
          },
          "metadata": {
            "tags": []
          },
          "execution_count": 34
        },
        {
          "output_type": "display_data",
          "data": {
            "image/png": "[encoded data removed]",
            "text/plain": [
              "<Figure size 432x288 with 1 Axes>"
            ]
          },
          "metadata": {
            "tags": []
          }
        }
      ]
    },
    {
      "cell_type": "markdown",
      "metadata": {
        "id": "iN2Zjt9QWxEz",
        "colab_type": "text"
      },
      "source": [
        "## 予測"
      ]
    },
    {
      "cell_type": "code",
      "metadata": {
        "id": "1MLcQY4fyf-w",
        "colab_type": "code",
        "outputId": "852d415a-f44a-459d-fd6b-04ea0693b7d5",
        "colab": {
          "base_uri": "https://localhost:8080/",
          "height": 204
        }
      },
      "source": [
        "# Decoderのアウトプットのテンソルから要素が最大のインデックスを返す。つまり生成文字を意味する\n",
        "def get_max_index(decoder_output):\n",
        "    results = []\n",
        "    for h in decoder_output:\n",
        "        results.append(torch.argmax(h))\n",
        "\n",
        "    return torch.tensor(results, device=device).view(BATCH_NUM, 1)\n",
        "\n",
        "# 評価用データ\n",
        "test_input_batch, test_output_batch = train2batch(test_x, test_y)\n",
        "input_tensor = torch.tensor(test_input_batch, device=device)\n",
        "\n",
        "predicts = []\n",
        "for i in range(len(test_input_batch)):\n",
        "\n",
        "    # torch.no_gradで必要のない計算を停止 パラメータの保存を止める(test時にメモリが溢れてしまうのを防止)\n",
        "    with torch.no_grad():\n",
        "\n",
        "        hs, encoder_state = encoder(input_tensor[i])\n",
        "\n",
        "        # Decoderにはまず文字列生成開始を表す\"_\"をインプットにするので、\"_\"のtensorをバッチサイズ分作成\n",
        "        start_char_batch = [[char2id[\"_\"]] for _ in range(BATCH_NUM)]\n",
        "        decoder_input_tensor = torch.tensor(start_char_batch, device=device)\n",
        "\n",
        "        # 変数名変換\n",
        "        decoder_hidden = encoder_state\n",
        "\n",
        "        # バッチ毎の結果を結合するための入れ物を定義\n",
        "        batch_tmp = torch.zeros(100, 1, dtype=torch.long, device=device)\n",
        "\n",
        "        for _ in range(output_len - 1):\n",
        "            decoder_output, decoder_hidden, _ = attn_decoder(decoder_input_tensor, hs, decoder_hidden)\n",
        "            # 予測文字を取得しつつ、そのまま次のdecoderのインプットとなる\n",
        "            # torch.squeezeは要素数が1のみの軸を削除してくれます\n",
        "            decoder_input_tensor = get_max_index(decoder_output.squeeze())\n",
        "            # バッチ毎の結果を予測順に結合\n",
        "            # torch.cat : torch.Tensorをリスト入れてして渡すことで、それらを連結したTensorを返してくれます\n",
        "            # 連結する軸はdimによって指定します。\n",
        "            batch_tmp = torch.cat([batch_tmp, decoder_input_tensor], dim=1)\n",
        "\n",
        "        # 最初のbatch_tmpの0要素が先頭に残ってしまっているのでスライスして削除\n",
        "        predicts.append(batch_tmp[:,1:])\n",
        "\n",
        "\n",
        "# 予測結果を見る際にIDのままだと可読性が悪いので、もとの文字列に復元するためのID→文字列に変換する辞書を定義\n",
        "id2char = {}\n",
        "for k, v in char2id.items():\n",
        "    id2char[v] = k\n",
        "\n",
        "row = []\n",
        "for i in range(len(test_input_batch)):\n",
        "    batch_input = test_input_batch[i]\n",
        "    batch_output = test_output_batch[i]\n",
        "    batch_predict = predicts[i]\n",
        "    for inp, output, predict in zip(batch_input, batch_output, batch_predict):\n",
        "        x = [id2char[idx] for idx in inp]\n",
        "        y = [id2char[idx] for idx in output[1:]]\n",
        "        p = [id2char[idx.item()] for idx in predict]\n",
        "\n",
        "        x_str = \"\".join(x)\n",
        "        y_str = \"\".join(y)\n",
        "        p_str = \"\".join(p)\n",
        "\n",
        "        judge = \"ok\" if y_str == p_str else \"ng\"\n",
        "        row.append([x_str, y_str, p_str, judge])\n",
        "        \n",
        "predict_df = pd.DataFrame(row, columns=[\"input\", \"answer\", \"predict\", \"judge\"])\n",
        "predict_df.head()"
      ],
      "execution_count": 36,
      "outputs": [
        {
          "output_type": "execute_result",
          "data": {
            "text/html": [
              "<div>\n",
              "<style scoped>\n",
              "    .dataframe tbody tr th:only-of-type {\n",
              "        vertical-align: middle;\n",
              "    }\n",
              "\n",
              "    .dataframe tbody tr th {\n",
              "        vertical-align: top;\n",
              "    }\n",
              "\n",
              "    .dataframe thead th {\n",
              "        text-align: right;\n",
              "    }\n",
              "</style>\n",
              "<table border=\"1\" class=\"dataframe\">\n",
              "  <thead>\n",
              "    <tr style=\"text-align: right;\">\n",
              "      <th></th>\n",
              "      <th>input</th>\n",
              "      <th>answer</th>\n",
              "      <th>predict</th>\n",
              "      <th>judge</th>\n",
              "    </tr>\n",
              "  </thead>\n",
              "  <tbody>\n",
              "    <tr>\n",
              "      <th>0</th>\n",
              "      <td>11/6/80</td>\n",
              "      <td>1980-11-06</td>\n",
              "      <td>1980-11-06</td>\n",
              "      <td>ok</td>\n",
              "    </tr>\n",
              "    <tr>\n",
              "      <th>1</th>\n",
              "      <td>august 20, 1970</td>\n",
              "      <td>1970-08-20</td>\n",
              "      <td>1970-08-20</td>\n",
              "      <td>ok</td>\n",
              "    </tr>\n",
              "    <tr>\n",
              "      <th>2</th>\n",
              "      <td>OCTOBER 13, 1982</td>\n",
              "      <td>1982-10-13</td>\n",
              "      <td>1982-10-13</td>\n",
              "      <td>ok</td>\n",
              "    </tr>\n",
              "    <tr>\n",
              "      <th>3</th>\n",
              "      <td>6/11/78</td>\n",
              "      <td>1978-06-11</td>\n",
              "      <td>1978-06-11</td>\n",
              "      <td>ok</td>\n",
              "    </tr>\n",
              "    <tr>\n",
              "      <th>4</th>\n",
              "      <td>monday, august 22, 1994</td>\n",
              "      <td>1994-08-22</td>\n",
              "      <td>1994-08-22</td>\n",
              "      <td>ok</td>\n",
              "    </tr>\n",
              "  </tbody>\n",
              "</table>\n",
              "</div>"
            ],
            "text/plain": [
              "                           input      answer     predict judge\n",
              "0  11/6/80                        1980-11-06  1980-11-06    ok\n",
              "1  august 20, 1970                1970-08-20  1970-08-20    ok\n",
              "2  OCTOBER 13, 1982               1982-10-13  1982-10-13    ok\n",
              "3  6/11/78                        1978-06-11  1978-06-11    ok\n",
              "4  monday, august 22, 1994        1994-08-22  1994-08-22    ok"
            ]
          },
          "metadata": {
            "tags": []
          },
          "execution_count": 36
        }
      ]
    },
    {
      "cell_type": "markdown",
      "metadata": {
        "id": "zfb5-bYYyfhU",
        "colab_type": "text"
      },
      "source": [
        "## 正解率"
      ]
    },
    {
      "cell_type": "code",
      "metadata": {
        "id": "fdHcQgDjyqEI",
        "colab_type": "code",
        "outputId": "95715d60-63b5-4f8e-f77f-27a7e2e3d4f7",
        "colab": {
          "base_uri": "https://localhost:8080/",
          "height": 67
        }
      },
      "source": [
        "print(len(predict_df.query('judge == \"ok\"')) / len(predict_df))\n",
        "# 0.9999333333333333\n",
        "\n",
        "predict_df.query('judge == \"X\"').head(10)"
      ],
      "execution_count": 38,
      "outputs": [
        {
          "output_type": "stream",
          "text": [
            "1.0\n"
          ],
          "name": "stdout"
        },
        {
          "output_type": "execute_result",
          "data": {
            "text/html": [
              "<div>\n",
              "<style scoped>\n",
              "    .dataframe tbody tr th:only-of-type {\n",
              "        vertical-align: middle;\n",
              "    }\n",
              "\n",
              "    .dataframe tbody tr th {\n",
              "        vertical-align: top;\n",
              "    }\n",
              "\n",
              "    .dataframe thead th {\n",
              "        text-align: right;\n",
              "    }\n",
              "</style>\n",
              "<table border=\"1\" class=\"dataframe\">\n",
              "  <thead>\n",
              "    <tr style=\"text-align: right;\">\n",
              "      <th></th>\n",
              "      <th>input</th>\n",
              "      <th>answer</th>\n",
              "      <th>predict</th>\n",
              "      <th>judge</th>\n",
              "    </tr>\n",
              "  </thead>\n",
              "  <tbody>\n",
              "  </tbody>\n",
              "</table>\n",
              "</div>"
            ],
            "text/plain": [
              "Empty DataFrame\n",
              "Columns: [input, answer, predict, judge]\n",
              "Index: []"
            ]
          },
          "metadata": {
            "tags": []
          },
          "execution_count": 38
        }
      ]
    },
    {
      "cell_type": "markdown",
      "metadata": {
        "id": "l44Qm7JHyq9V",
        "colab_type": "text"
      },
      "source": [
        "## attention weight 可視化\n",
        "- attention weightの可視化にはよくheatmapが使われるので、seabornのheatmapで可視化してます。\n",
        "- 7:3に分けた3のほうのテストデータをバッチに分けたうちの最初のミニバッチを流しています"
      ]
    },
    {
      "cell_type": "code",
      "metadata": {
        "id": "bnrtxvqyToK7",
        "colab_type": "code",
        "outputId": "fcf1cce3-85ec-48e4-9af4-df18592fcff8",
        "colab": {
          "base_uri": "https://localhost:8080/",
          "height": 1000
        }
      },
      "source": [
        "input_batch, output_batch = train2batch(test_x, test_y, batch_size=BATCH_NUM)\n",
        "input_minibatch, output_minibatch = input_batch[0], output_batch[0]\n",
        "\n",
        "with torch.no_grad():\n",
        "    # データをテンソルに変換\n",
        "    input_tensor = torch.tensor(input_minibatch, device=device)\n",
        "    output_tensor = torch.tensor(output_minibatch, device=device)\n",
        "    hs, h = encoder(input_tensor)\n",
        "    source = output_tensor[:, :-1]\n",
        "    decoder_output, _, attention_weight= attn_decoder(source, hs, h)\n",
        "\n",
        "for i in range(1):\n",
        "    with torch.no_grad():\n",
        "        pprint.pprint(attention_weight[i])\n",
        "        pprint.pprint(torch.transpose(attention_weight[i], 0, 1))\n",
        "        # torch.transpose で行と列を入れ替え(転置)\n",
        "        # columns(列)：変換前文字列の表示用\n",
        "        # index(行)：変換後文字列の表示用\n",
        "        df = pd.DataFrame(data=torch.transpose(attention_weight[i], 0, 1).cpu().numpy(), \n",
        "                    columns=[id2char[idx.item()] for idx in input_tensor[i]], \n",
        "                    index=[id2char[idx.item()] for idx in output_tensor[i][1:]])\n",
        "        print(df)\n",
        "        plt.figure(figsize=(12, 8)) \n",
        "        sns.heatmap(df, xticklabels = 1, yticklabels = 1, square=True, linewidths=.3,\n",
        "                        cbar_kws = dict(use_gridspec=False,location=\"top\"))"
      ],
      "execution_count": 46,
      "outputs": [
        {
          "output_type": "stream",
          "text": [
            "tensor([[3.8613e-19, 2.1273e-08, 1.0920e-11, 1.3520e-07, 4.7374e-15, 9.3962e-09,\n",
            "         1.8438e-11, 9.9449e-14, 4.0167e-14, 1.0976e-11],\n",
            "        [2.3630e-16, 7.7201e-11, 2.3466e-12, 2.3124e-10, 4.3433e-21, 9.4143e-08,\n",
            "         3.4364e-11, 2.4530e-18, 2.8647e-12, 1.0042e-14],\n",
            "        [4.3589e-11, 8.9699e-14, 1.1024e-13, 1.6823e-10, 9.9200e-21, 1.8709e-06,\n",
            "         4.7812e-05, 7.5254e-18, 6.0440e-11, 5.6571e-12],\n",
            "        [6.4459e-09, 1.1317e-09, 1.2131e-13, 2.2339e-10, 9.6251e-21, 1.1122e-05,\n",
            "         4.8886e-12, 6.5853e-18, 1.0930e-04, 9.1550e-12],\n",
            "        [8.9942e-15, 4.6273e-14, 5.7590e-14, 2.0403e-11, 1.1818e-14, 5.1227e-04,\n",
            "         2.4171e-15, 1.4330e-13, 4.3779e-08, 3.6600e-11],\n",
            "        [6.2632e-16, 2.4635e-05, 2.7967e-13, 2.8888e-11, 9.2278e-19, 3.9172e-08,\n",
            "         1.0939e-06, 2.4177e-13, 1.5965e-11, 9.6128e-08],\n",
            "        [5.4190e-14, 1.0299e-05, 1.8777e-10, 1.0730e-12, 3.6394e-17, 4.0926e-11,\n",
            "         4.5602e-10, 2.2201e-09, 2.1429e-08, 3.2797e-07],\n",
            "        [5.2689e-07, 7.8872e-05, 2.4928e-07, 3.0995e-10, 1.4938e-19, 4.3038e-09,\n",
            "         2.5206e-12, 6.5846e-16, 2.8427e-09, 5.3365e-10],\n",
            "        [2.4912e-15, 7.0696e-05, 1.5943e-09, 1.9890e-07, 1.2020e-20, 6.7069e-04,\n",
            "         5.6180e-08, 4.2978e-20, 1.6044e-11, 5.7718e-16],\n",
            "        [2.4414e-15, 2.5235e-10, 4.0215e-10, 4.6676e-06, 1.1804e-17, 9.9850e-01,\n",
            "         6.8058e-09, 1.4939e-17, 1.7157e-08, 7.6708e-13],\n",
            "        [1.7724e-17, 3.5497e-06, 2.2302e-12, 1.3306e-07, 8.0687e-25, 8.9024e-05,\n",
            "         9.9703e-01, 4.9406e-17, 5.4249e-10, 1.7987e-07],\n",
            "        [2.5005e-16, 5.4405e-09, 7.2807e-13, 2.0481e-09, 8.6732e-23, 2.1679e-05,\n",
            "         2.9240e-03, 2.2087e-13, 2.4711e-05, 4.7270e-07],\n",
            "        [3.3498e-09, 1.1520e-08, 4.9547e-12, 1.2191e-07, 2.4854e-19, 1.8086e-04,\n",
            "         7.4463e-08, 8.6316e-13, 9.9986e-01, 2.6146e-06],\n",
            "        [2.1384e-15, 6.6544e-15, 2.2058e-17, 1.2176e-04, 1.8964e-15, 3.6905e-12,\n",
            "         4.0317e-09, 9.4494e-12, 3.4209e-07, 9.9999e-01],\n",
            "        [1.6600e-10, 6.6296e-04, 5.0214e-07, 9.8655e-11, 4.9600e-16, 1.9906e-13,\n",
            "         1.8214e-15, 3.3083e-12, 2.6959e-08, 2.0664e-06],\n",
            "        [1.0652e-03, 5.6208e-02, 6.5497e-04, 4.8537e-06, 2.8397e-14, 7.1951e-10,\n",
            "         8.4825e-14, 5.0327e-16, 1.9346e-12, 3.6220e-11],\n",
            "        [9.9882e-01, 1.0821e-03, 5.9108e-10, 2.3704e-04, 7.0747e-18, 8.7813e-06,\n",
            "         2.9799e-09, 4.8337e-15, 1.7890e-06, 1.0641e-11],\n",
            "        [3.9626e-18, 1.5125e-13, 1.9183e-15, 6.6434e-11, 9.9823e-01, 3.4023e-09,\n",
            "         1.9807e-15, 1.0000e+00, 3.2069e-09, 1.1491e-09],\n",
            "        [3.5589e-19, 3.9810e-08, 9.9930e-01, 1.7387e-06, 1.2957e-11, 1.6054e-10,\n",
            "         2.0537e-13, 3.8115e-11, 6.6276e-11, 7.3248e-08],\n",
            "        [6.2077e-08, 9.8123e-09, 6.4264e-10, 9.9928e-01, 2.8141e-12, 1.0700e-06,\n",
            "         2.6572e-10, 2.4942e-14, 5.5525e-08, 1.7318e-12],\n",
            "        [2.5747e-12, 4.1383e-06, 1.6309e-09, 1.5551e-05, 1.7681e-03, 6.8614e-14,\n",
            "         3.1250e-15, 4.1874e-07, 1.9210e-14, 1.5994e-09],\n",
            "        [3.0757e-08, 5.7915e-01, 4.4719e-05, 2.8274e-04, 6.5089e-08, 2.3809e-16,\n",
            "         4.5834e-12, 1.5884e-09, 6.9738e-17, 3.5299e-12],\n",
            "        [5.8359e-06, 1.9264e-02, 7.5564e-07, 4.9249e-05, 1.3139e-07, 5.4408e-14,\n",
            "         8.5094e-13, 1.6513e-08, 3.4577e-14, 2.9908e-13],\n",
            "        [4.7825e-06, 3.2614e-01, 2.2662e-06, 3.3036e-07, 1.2402e-10, 4.4827e-13,\n",
            "         2.6931e-13, 2.8967e-09, 3.1612e-12, 3.9454e-13],\n",
            "        [4.9075e-06, 1.1382e-02, 1.7018e-08, 4.1340e-07, 2.9975e-10, 1.4127e-11,\n",
            "         4.0485e-14, 1.1410e-08, 3.9402e-10, 3.0846e-13],\n",
            "        [8.0028e-06, 3.3329e-03, 2.6469e-09, 5.1385e-07, 2.9851e-10, 2.4989e-11,\n",
            "         2.1659e-14, 1.0365e-08, 1.1177e-09, 2.6586e-13],\n",
            "        [1.9522e-05, 1.2037e-03, 6.4104e-10, 9.6642e-07, 4.3444e-10, 3.4330e-11,\n",
            "         1.6282e-14, 1.0215e-08, 1.6902e-09, 1.7124e-13],\n",
            "        [3.0179e-05, 7.8267e-04, 3.6623e-10, 1.1572e-06, 4.3717e-10, 3.3836e-11,\n",
            "         1.4615e-14, 9.6942e-09, 1.9124e-09, 1.3804e-13],\n",
            "        [3.8166e-05, 6.0382e-04, 2.7737e-10, 1.2359e-06, 4.3206e-10, 3.3521e-11,\n",
            "         1.3919e-14, 9.5000e-09, 2.1016e-09, 1.2388e-13]], device='cuda:0')\n",
            "tensor([[3.8613e-19, 2.3630e-16, 4.3589e-11, 6.4459e-09, 8.9942e-15, 6.2632e-16,\n",
            "         5.4190e-14, 5.2689e-07, 2.4912e-15, 2.4414e-15, 1.7724e-17, 2.5005e-16,\n",
            "         3.3498e-09, 2.1384e-15, 1.6600e-10, 1.0652e-03, 9.9882e-01, 3.9626e-18,\n",
            "         3.5589e-19, 6.2077e-08, 2.5747e-12, 3.0757e-08, 5.8359e-06, 4.7825e-06,\n",
            "         4.9075e-06, 8.0028e-06, 1.9522e-05, 3.0179e-05, 3.8166e-05],\n",
            "        [2.1273e-08, 7.7201e-11, 8.9699e-14, 1.1317e-09, 4.6273e-14, 2.4635e-05,\n",
            "         1.0299e-05, 7.8872e-05, 7.0696e-05, 2.5235e-10, 3.5497e-06, 5.4405e-09,\n",
            "         1.1520e-08, 6.6544e-15, 6.6296e-04, 5.6208e-02, 1.0821e-03, 1.5125e-13,\n",
            "         3.9810e-08, 9.8123e-09, 4.1383e-06, 5.7915e-01, 1.9264e-02, 3.2614e-01,\n",
            "         1.1382e-02, 3.3329e-03, 1.2037e-03, 7.8267e-04, 6.0382e-04],\n",
            "        [1.0920e-11, 2.3466e-12, 1.1024e-13, 1.2131e-13, 5.7590e-14, 2.7967e-13,\n",
            "         1.8777e-10, 2.4928e-07, 1.5943e-09, 4.0215e-10, 2.2302e-12, 7.2807e-13,\n",
            "         4.9547e-12, 2.2058e-17, 5.0214e-07, 6.5497e-04, 5.9108e-10, 1.9183e-15,\n",
            "         9.9930e-01, 6.4264e-10, 1.6309e-09, 4.4719e-05, 7.5564e-07, 2.2662e-06,\n",
            "         1.7018e-08, 2.6469e-09, 6.4104e-10, 3.6623e-10, 2.7737e-10],\n",
            "        [1.3520e-07, 2.3124e-10, 1.6823e-10, 2.2339e-10, 2.0403e-11, 2.8888e-11,\n",
            "         1.0730e-12, 3.0995e-10, 1.9890e-07, 4.6676e-06, 1.3306e-07, 2.0481e-09,\n",
            "         1.2191e-07, 1.2176e-04, 9.8655e-11, 4.8537e-06, 2.3704e-04, 6.6434e-11,\n",
            "         1.7387e-06, 9.9928e-01, 1.5551e-05, 2.8274e-04, 4.9249e-05, 3.3036e-07,\n",
            "         4.1340e-07, 5.1385e-07, 9.6642e-07, 1.1572e-06, 1.2359e-06],\n",
            "        [4.7374e-15, 4.3433e-21, 9.9200e-21, 9.6251e-21, 1.1818e-14, 9.2278e-19,\n",
            "         3.6394e-17, 1.4938e-19, 1.2020e-20, 1.1804e-17, 8.0687e-25, 8.6732e-23,\n",
            "         2.4854e-19, 1.8964e-15, 4.9600e-16, 2.8397e-14, 7.0747e-18, 9.9823e-01,\n",
            "         1.2957e-11, 2.8141e-12, 1.7681e-03, 6.5089e-08, 1.3139e-07, 1.2402e-10,\n",
            "         2.9975e-10, 2.9851e-10, 4.3444e-10, 4.3717e-10, 4.3206e-10],\n",
            "        [9.3962e-09, 9.4143e-08, 1.8709e-06, 1.1122e-05, 5.1227e-04, 3.9172e-08,\n",
            "         4.0926e-11, 4.3038e-09, 6.7069e-04, 9.9850e-01, 8.9024e-05, 2.1679e-05,\n",
            "         1.8086e-04, 3.6905e-12, 1.9906e-13, 7.1951e-10, 8.7813e-06, 3.4023e-09,\n",
            "         1.6054e-10, 1.0700e-06, 6.8614e-14, 2.3809e-16, 5.4408e-14, 4.4827e-13,\n",
            "         1.4127e-11, 2.4989e-11, 3.4330e-11, 3.3836e-11, 3.3521e-11],\n",
            "        [1.8438e-11, 3.4364e-11, 4.7812e-05, 4.8886e-12, 2.4171e-15, 1.0939e-06,\n",
            "         4.5602e-10, 2.5206e-12, 5.6180e-08, 6.8058e-09, 9.9703e-01, 2.9240e-03,\n",
            "         7.4463e-08, 4.0317e-09, 1.8214e-15, 8.4825e-14, 2.9799e-09, 1.9807e-15,\n",
            "         2.0537e-13, 2.6572e-10, 3.1250e-15, 4.5834e-12, 8.5094e-13, 2.6931e-13,\n",
            "         4.0485e-14, 2.1659e-14, 1.6282e-14, 1.4615e-14, 1.3919e-14],\n",
            "        [9.9449e-14, 2.4530e-18, 7.5254e-18, 6.5853e-18, 1.4330e-13, 2.4177e-13,\n",
            "         2.2201e-09, 6.5846e-16, 4.2978e-20, 1.4939e-17, 4.9406e-17, 2.2087e-13,\n",
            "         8.6316e-13, 9.4494e-12, 3.3083e-12, 5.0327e-16, 4.8337e-15, 1.0000e+00,\n",
            "         3.8115e-11, 2.4942e-14, 4.1874e-07, 1.5884e-09, 1.6513e-08, 2.8967e-09,\n",
            "         1.1410e-08, 1.0365e-08, 1.0215e-08, 9.6942e-09, 9.5000e-09],\n",
            "        [4.0167e-14, 2.8647e-12, 6.0440e-11, 1.0930e-04, 4.3779e-08, 1.5965e-11,\n",
            "         2.1429e-08, 2.8427e-09, 1.6044e-11, 1.7157e-08, 5.4249e-10, 2.4711e-05,\n",
            "         9.9986e-01, 3.4209e-07, 2.6959e-08, 1.9346e-12, 1.7890e-06, 3.2069e-09,\n",
            "         6.6276e-11, 5.5525e-08, 1.9210e-14, 6.9738e-17, 3.4577e-14, 3.1612e-12,\n",
            "         3.9402e-10, 1.1177e-09, 1.6902e-09, 1.9124e-09, 2.1016e-09],\n",
            "        [1.0976e-11, 1.0042e-14, 5.6571e-12, 9.1550e-12, 3.6600e-11, 9.6128e-08,\n",
            "         3.2797e-07, 5.3365e-10, 5.7718e-16, 7.6708e-13, 1.7987e-07, 4.7270e-07,\n",
            "         2.6146e-06, 9.9999e-01, 2.0664e-06, 3.6220e-11, 1.0641e-11, 1.1491e-09,\n",
            "         7.3248e-08, 1.7318e-12, 1.5994e-09, 3.5299e-12, 2.9908e-13, 3.9454e-13,\n",
            "         3.0846e-13, 2.6586e-13, 1.7124e-13, 1.3804e-13, 1.2388e-13]],\n",
            "       device='cuda:0')\n",
            "              S             u  ...                            \n",
            "1  3.861316e-19  2.363001e-16  ...  3.017928e-05  3.816612e-05\n",
            "9  2.127253e-08  7.720132e-11  ...  7.826673e-04  6.038221e-04\n",
            "7  1.092004e-11  2.346624e-12  ...  3.662347e-10  2.773738e-10\n",
            "1  1.351973e-07  2.312378e-10  ...  1.157242e-06  1.235873e-06\n",
            "-  4.737365e-15  4.343276e-21  ...  4.371733e-10  4.320619e-10\n",
            "0  9.396248e-09  9.414335e-08  ...  3.383597e-11  3.352058e-11\n",
            "5  1.843816e-11  3.436354e-11  ...  1.461537e-14  1.391916e-14\n",
            "-  9.944939e-14  2.452968e-18  ...  9.694211e-09  9.499965e-09\n",
            "1  4.016662e-14  2.864729e-12  ...  1.912397e-09  2.101596e-09\n",
            "6  1.097577e-11  1.004173e-14  ...  1.380416e-13  1.238821e-13\n",
            "\n",
            "[10 rows x 29 columns]\n"
          ],
          "name": "stdout"
        },
        {
          "output_type": "display_data",
          "data": {
            "image/png": "[encoded data removed]",
            "text/plain": [
              "<Figure size 864x576 with 2 Axes>"
            ]
          },
          "metadata": {
            "tags": []
          }
        }
      ]
    },
    {
      "cell_type": "markdown",
      "metadata": {
        "id": "yIpuFhX3T0i8",
        "colab_type": "text"
      },
      "source": [
        "###### heatmapの説明\n",
        "- 下の文字が変換前の文字列 (左から読む)\n",
        "- 左の縦に並んでいる文字列が生成文字 (上から読む)\n",
        "- 生成文字を１文字ずつ見たとき、左に並んでいるボックスの色が一番明るいところの文字に一番attentionして生成された文字ですという意味\n",
        "- 左方向にボックスの値をすべて足せば1になる"
      ]
    },
    {
      "cell_type": "code",
      "metadata": {
        "id": "dCl0vXUzeL_Y",
        "colab_type": "code",
        "colab": {
          "base_uri": "https://localhost:8080/",
          "height": 346
        },
        "outputId": "30c43f1d-e423-47e3-b426-bd50fde2cb78"
      },
      "source": [
        "# 例\n",
        "display_png(Image(\"/content/drive/My Drive/git/images/seq2seq05.png\"))"
      ],
      "execution_count": 48,
      "outputs": [
        {
          "output_type": "display_data",
          "data": {
            "image/png": "[encoded data removed]"
          },
          "metadata": {
            "tags": []
          }
        }
      ]
    },
    {
      "cell_type": "markdown",
      "metadata": {
        "id": "q9f8zSGCV0rF",
        "colab_type": "text"
      },
      "source": [
        "- seq2seq05.png の考察\n",
        " - 曜日の変換は無いため、Sundayの文字は全く注目されていない\n",
        " - Mayのaを0が注目している。Marchは03でMayは05だから、Maとなったときに0が確定し、次いでMayとなったときに5が確定した。"
      ]
    },
    {
      "cell_type": "code",
      "metadata": {
        "id": "6HngzUYAVtR7",
        "colab_type": "code",
        "colab": {}
      },
      "source": [
        ""
      ],
      "execution_count": 0,
      "outputs": []
    }
  ]
}
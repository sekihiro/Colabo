{
  "nbformat": 4,
  "nbformat_minor": 0,
  "metadata": {
    "kernelspec": {
      "name": "python3",
      "display_name": "Python 3"
    },
    "language_info": {
      "codemirror_mode": {
        "name": "ipython",
        "version": 3
      },
      "file_extension": ".py",
      "mimetype": "text/x-python",
      "name": "python",
      "nbconvert_exporter": "python",
      "pygments_lexer": "ipython3",
      "version": "3.7.4"
    },
    "colab": {
      "name": "bert_fine-tuning.ipynb",
      "provenance": [],
      "collapsed_sections": [],
      "toc_visible": true,
      "include_colab_link": true
    },
    "accelerator": "GPU"
  },
  "cells": [
    {
      "cell_type": "markdown",
      "metadata": {
        "id": "view-in-github",
        "colab_type": "text"
      },
      "source": [
        "<a href=\"https://colab.research.google.com/github/sekihiro/Colabo/blob/master/bert_fine_tuning.ipynb\" target=\"_parent\"><img src=\"https://colab.research.google.com/assets/colab-badge.svg\" alt=\"Open In Colab\"/></a>"
      ]
    },
    {
      "cell_type": "markdown",
      "metadata": {
        "id": "vcPZKMYqPr-L",
        "colab_type": "text"
      },
      "source": [
        "# PyTorchとtransformersを用いて日本語の文章を分類するclassifierを作成、ファインチューニングして予測する\n",
        "- https://qiita.com/nekoumei/items/7b911c61324f16c43e7e\n",
        "- https://github.com/nekoumei/DocumentClassificationUsingBERT-Japanese"
      ]
    },
    {
      "cell_type": "code",
      "metadata": {
        "id": "91I9wJWtOJxa",
        "colab_type": "code",
        "outputId": "ea003830-eba7-4208-dc14-bfc65ceb764a",
        "colab": {
          "base_uri": "https://localhost:8080/",
          "height": 127
        }
      },
      "source": [
        "from google.colab import drive\n",
        "drive.mount('/content/drive')"
      ],
      "execution_count": 1,
      "outputs": [
        {
          "output_type": "stream",
          "text": [
            "Go to this URL in a browser: https://accounts.google.com/o/oauth2/auth?client_id=947318989803-6bn6qk8qdgf4n4g3pfee6491hc0brc4i.apps.googleusercontent.com&redirect_uri=urn%3aietf%3awg%3aoauth%3a2.0%3aoob&response_type=code&scope=email%20https%3a%2f%2fwww.googleapis.com%2fauth%2fdocs.test%20https%3a%2f%2fwww.googleapis.com%2fauth%2fdrive%20https%3a%2f%2fwww.googleapis.com%2fauth%2fdrive.photos.readonly%20https%3a%2f%2fwww.googleapis.com%2fauth%2fpeopleapi.readonly\n",
            "\n",
            "Enter your authorization code:\n",
            "··········\n",
            "Mounted at /content/drive\n"
          ],
          "name": "stdout"
        }
      ]
    },
    {
      "cell_type": "code",
      "metadata": {
        "id": "4aUyL8yxPTGj",
        "colab_type": "code",
        "colab": {}
      },
      "source": [
        "# MeCab\n",
        "!apt install aptitude\n",
        "!aptitude install mecab libmecab-dev mecab-ipadic-utf8 git make curl xz-utils file -y\n",
        "!pip install mecab-python3\n",
        "\n",
        "# transformers(旧名：pytorch-pretrained-BERT)\n",
        "!pip install transformers\n",
        "\n",
        "# DocumentClassifierUsingBertJapanese用\n",
        "!pip install mojimoji\n",
        "!pip install logzero"
      ],
      "execution_count": 0,
      "outputs": []
    },
    {
      "cell_type": "code",
      "metadata": {
        "id": "XCkS8HKcg7XF",
        "colab_type": "code",
        "outputId": "805457ae-aa62-422b-f5ff-a9190f2b0388",
        "colab": {
          "base_uri": "https://localhost:8080/",
          "height": 521
        }
      },
      "source": [
        "!nvidia-smi\n",
        "!nvcc -V\n",
        "!cat /usr/include/cudnn.h | grep CUDNN_MAJOR -A 2"
      ],
      "execution_count": 3,
      "outputs": [
        {
          "output_type": "stream",
          "text": [
            "Sun Feb 16 02:49:49 2020       \n",
            "+-----------------------------------------------------------------------------+\n",
            "| NVIDIA-SMI 440.48.02    Driver Version: 418.67       CUDA Version: 10.1     |\n",
            "|-------------------------------+----------------------+----------------------+\n",
            "| GPU  Name        Persistence-M| Bus-Id        Disp.A | Volatile Uncorr. ECC |\n",
            "| Fan  Temp  Perf  Pwr:Usage/Cap|         Memory-Usage | GPU-Util  Compute M. |\n",
            "|===============================+======================+======================|\n",
            "|   0  Tesla T4            Off  | 00000000:00:04.0 Off |                    0 |\n",
            "| N/A   41C    P8    10W /  70W |      0MiB / 15079MiB |      0%      Default |\n",
            "+-------------------------------+----------------------+----------------------+\n",
            "                                                                               \n",
            "+-----------------------------------------------------------------------------+\n",
            "| Processes:                                                       GPU Memory |\n",
            "|  GPU       PID   Type   Process name                             Usage      |\n",
            "|=============================================================================|\n",
            "|  No running processes found                                                 |\n",
            "+-----------------------------------------------------------------------------+\n",
            "nvcc: NVIDIA (R) Cuda compiler driver\n",
            "Copyright (c) 2005-2018 NVIDIA Corporation\n",
            "Built on Sat_Aug_25_21:08:01_CDT_2018\n",
            "Cuda compilation tools, release 10.0, V10.0.130\n",
            "#define CUDNN_MAJOR 7\n",
            "#define CUDNN_MINOR 6\n",
            "#define CUDNN_PATCHLEVEL 5\n",
            "--\n",
            "#define CUDNN_VERSION (CUDNN_MAJOR * 1000 + CUDNN_MINOR * 100 + CUDNN_PATCHLEVEL)\n",
            "\n",
            "#include \"driver_types.h\"\n"
          ],
          "name": "stdout"
        }
      ]
    },
    {
      "cell_type": "code",
      "metadata": {
        "id": "OmgZBEk-7zBt",
        "colab_type": "code",
        "colab": {
          "base_uri": "https://localhost:8080/",
          "height": 73
        },
        "outputId": "78ef1871-37aa-4792-f99f-c579f4a54e3f"
      },
      "source": [
        "# importの対象ディレクトリのパス設定\n",
        "import sys\n",
        "print(sys.path)\n",
        "\n",
        "NB_PATH = '/content/drive/My Drive/Colab Notebooks'\n",
        "sys.path.append(NB_PATH)\n",
        "print(sys.path)"
      ],
      "execution_count": 7,
      "outputs": [
        {
          "output_type": "stream",
          "text": [
            "['', '/env/python', '/usr/lib/python36.zip', '/usr/lib/python3.6', '/usr/lib/python3.6/lib-dynload', '/usr/local/lib/python3.6/dist-packages', '/usr/lib/python3/dist-packages', '/usr/local/lib/python3.6/dist-packages/IPython/extensions', '/root/.ipython', '/content/drive/My Drive/Colab Notebooks', '/content/drive/My Drive/Colab Notebooks']\n",
            "['', '/env/python', '/usr/lib/python36.zip', '/usr/lib/python3.6', '/usr/lib/python3.6/lib-dynload', '/usr/local/lib/python3.6/dist-packages', '/usr/lib/python3/dist-packages', '/usr/local/lib/python3.6/dist-packages/IPython/extensions', '/root/.ipython', '/content/drive/My Drive/Colab Notebooks', '/content/drive/My Drive/Colab Notebooks', '/content/drive/My Drive/Colab Notebooks']\n"
          ],
          "name": "stdout"
        }
      ]
    },
    {
      "cell_type": "code",
      "metadata": {
        "id": "mUHbnH5BX_rr",
        "colab_type": "code",
        "outputId": "641413d3-3d7f-485e-f6f1-68aeba8e92a3",
        "colab": {
          "base_uri": "https://localhost:8080/",
          "height": 81
        }
      },
      "source": [
        "import os\n",
        "import re\n",
        "import argparse\n",
        "import torch\n",
        "import torch.nn as nn\n",
        "import torch.nn.functional as F\n",
        "import torch.optim as optim\n",
        "import torchvision\n",
        "import torchvision.datasets as dsets\n",
        "import torchvision.transforms as transforms\n",
        "import random\n",
        "import pandas as pd\n",
        "from sklearn.preprocessing import LabelEncoder\n",
        "from sklearn.model_selection import train_test_split\n",
        "import numpy as np\n",
        "import time\n",
        "from glob import glob\n",
        "from tqdm import tqdm\n",
        "import pprint\n",
        "import linecache\n",
        "import MeCab\n",
        "import cloudpickle\n",
        "import shutil\n",
        "%matplotlib inline\n",
        "from transformers import BertJapaneseTokenizer, BertForSequenceClassification\n",
        "import DocumentClassifierUsingBertJapanese as clf"
      ],
      "execution_count": 8,
      "outputs": [
        {
          "output_type": "display_data",
          "data": {
            "text/html": [
              "<p style=\"color: red;\">\n",
              "The default version of TensorFlow in Colab will soon switch to TensorFlow 2.x.<br>\n",
              "We recommend you <a href=\"https://www.tensorflow.org/guide/migrate\" target=\"_blank\">upgrade</a> now \n",
              "or ensure your notebook will continue to use TensorFlow 1.x via the <code>%tensorflow_version 1.x</code> magic:\n",
              "<a href=\"https://colab.research.google.com/notebooks/tensorflow_version.ipynb\" target=\"_blank\">more info</a>.</p>\n"
            ],
            "text/plain": [
              "<IPython.core.display.HTML object>"
            ]
          },
          "metadata": {
            "tags": []
          }
        }
      ]
    },
    {
      "cell_type": "code",
      "metadata": {
        "id": "-9u9Cw9fXQSu",
        "colab_type": "code",
        "outputId": "53ed14d2-601e-46f7-c488-86f3d8fbc2b2",
        "colab": {
          "base_uri": "https://localhost:8080/",
          "height": 53
        }
      },
      "source": [
        "# 再現性確保\n",
        "def seed_everything(seed=1234):\n",
        "    random.seed(seed)\n",
        "    np.random.seed(seed)\n",
        "    torch.manual_seed(seed)\n",
        "    torch.cuda.manual_seed(seed)\n",
        "    torch.backends.cudnn.deterministic = True\n",
        "    return seed\n",
        "\n",
        "# 再現性確保\n",
        "ret = seed_everything(1234)\n",
        "print('seed : {}'.format(ret))\n",
        "\n",
        "# select device\n",
        "device = 'cuda' if torch.cuda.is_available() else 'cpu'\n",
        "print('device : {}'.format(device))"
      ],
      "execution_count": 9,
      "outputs": [
        {
          "output_type": "stream",
          "text": [
            "seed : 1234\n",
            "device : cuda\n"
          ],
          "name": "stdout"
        }
      ]
    },
    {
      "cell_type": "markdown",
      "metadata": {
        "id": "is6vlMMwXV2O",
        "colab_type": "text"
      },
      "source": [
        "### livedoor ニュースコーパス 取得\n",
        "- https://www.rondhuit.com/download/ldcc-20140209.tar.gz"
      ]
    },
    {
      "cell_type": "code",
      "metadata": {
        "id": "-ObfcthSXQHM",
        "colab_type": "code",
        "outputId": "8d23ed3c-0ef1-403f-9bd0-36fe5fcaafb2",
        "colab": {
          "base_uri": "https://localhost:8080/",
          "height": 233
        }
      },
      "source": [
        "%cd \"/content/drive/My Drive/git/LDCC/data/text/\"\n",
        "%ls -al"
      ],
      "execution_count": 10,
      "outputs": [
        {
          "output_type": "stream",
          "text": [
            "/content/drive/My Drive/git/LDCC/data/text\n",
            "total 40\n",
            "drwx------ 2 root root 4096 Feb  9  2014 \u001b[0m\u001b[01;34mdokujo-tsushin\u001b[0m/\n",
            "drwx------ 2 root root 4096 Feb 15 15:02 \u001b[01;34m.ipynb_checkpoints\u001b[0m/\n",
            "drwx------ 2 root root 4096 Feb  9  2014 \u001b[01;34mit-life-hack\u001b[0m/\n",
            "drwx------ 2 root root 4096 Feb  9  2014 \u001b[01;34mkaden-channel\u001b[0m/\n",
            "drwx------ 2 root root 4096 Feb  9  2014 \u001b[01;34mlivedoor-homme\u001b[0m/\n",
            "drwx------ 2 root root 4096 Feb  9  2014 \u001b[01;34mmovie-enter\u001b[0m/\n",
            "drwx------ 2 root root 4096 Feb  9  2014 \u001b[01;34mpeachy\u001b[0m/\n",
            "drwx------ 2 root root 4096 Feb  9  2014 \u001b[01;34msmax\u001b[0m/\n",
            "drwx------ 2 root root 4096 Feb  9  2014 \u001b[01;34msports-watch\u001b[0m/\n",
            "drwx------ 2 root root 4096 Feb  9  2014 \u001b[01;34mtopic-news\u001b[0m/\n"
          ],
          "name": "stdout"
        }
      ]
    },
    {
      "cell_type": "code",
      "metadata": {
        "id": "G0k-V0GkXj_W",
        "colab_type": "code",
        "outputId": "f57de0bb-bae5-49ad-cad5-e69525d1d577",
        "colab": {
          "base_uri": "https://localhost:8080/",
          "height": 217
        }
      },
      "source": [
        "# テキスト内容を確認\n",
        "!head \"/content/drive/My Drive/git/LDCC/data/text/it-life-hack/it-life-hack-6292880.txt\""
      ],
      "execution_count": 11,
      "outputs": [
        {
          "output_type": "stream",
          "text": [
            "http://news.livedoor.com/article/detail/6292880/\n",
            "2012-02-19T13:00:00+0900\n",
            "旧式Macで禁断のパワーアップ！最新PCやソフトを一挙にチェック【ITフラッシュバック】\n",
            "テレビやTwitterと連携できるパソコンや、プロセッサや切り替わるパソコンなど、面白いパソコンが次から次へと登場した。旧式Macの禁断ともいえるパワーアップ方法から、NECの最新PC、話題のThinkPad X1 Hybrid、新セキュリティソフトまで一挙に紹介しよう。\n",
            "\n",
            "■インテル SSD 520をMacに装着！旧式Macはどれほど高速化するのか (上)\n",
            "インテルが最新SSD「520シリーズ」を発売した。現行SSDの中でもトップクラスの性能を誇る同製品を、旧型Macの高速化を図るというポイントでレビューしてみた。少し風変わりなレビューとなるが、どの程度の効果があるか、期待大である。\n",
            "\n",
            "\n",
            "■http://itlifehack.jp/archives/6716997.html\n"
          ],
          "name": "stdout"
        }
      ]
    },
    {
      "cell_type": "code",
      "metadata": {
        "id": "U8-MVGSwXj1V",
        "colab_type": "code",
        "colab": {}
      },
      "source": [
        "BASE_PATH = \"/content/drive/My Drive/git/LDCC/\"\n",
        "DATA_PATH = BASE_PATH + 'data/text/'\n",
        "PICKLE_PATH = BASE_PATH + 'data/ldcc_idx.pkl' # ラベルカラムは、文字列でなく、インデックスNo"
      ],
      "execution_count": 0,
      "outputs": []
    },
    {
      "cell_type": "code",
      "metadata": {
        "id": "jzI68poBX0UX",
        "colab_type": "code",
        "outputId": "2a673fe8-396c-4265-c38f-6176bafc8a7e",
        "colab": {
          "base_uri": "https://localhost:8080/",
          "height": 215
        }
      },
      "source": [
        "# LDCCテキストファイルからタイトル行をDateFrameに格納し、pickle形式で保存\n",
        "\n",
        "# カテゴリを配列で取得\n",
        "categories = []\n",
        "list_cat = glob(DATA_PATH + '*')\n",
        "for tmp in list_cat:\n",
        "    categories.append(tmp[tmp.rindex('/')+1:])\n",
        "#print(categories)\n",
        "time.sleep(1)\n",
        "# ['movie-enter', 'it-life-hack', 'kaden-channel', 'topic-news', 'livedoor-homme', 'peachy', 'sports-watch', 'dokujo-tsushin', 'smax']\n",
        "dic = {}\n",
        "for i, buf in enumerate(categories):\n",
        "    dic[buf] = i\n",
        "pprint.pprint(dic)\n",
        "\n",
        "if os.path.isfile(PICKLE_PATH):\n",
        "    print(PICKLE_PATH + ' is exists ... ')\n",
        "else:\n",
        "    # データフレーム作成\n",
        "    datasets = pd.DataFrame(columns=['Text', 'Label'])\n",
        "    for cat in categories:\n",
        "        path = DATA_PATH + cat + \"/*.txt\"\n",
        "        files = glob(path)\n",
        "        print('\\n' + cat + '\\n')\n",
        "        time.sleep(1)\n",
        "        for text_name in tqdm(files):\n",
        "            # 各テキストファイルの3行目にタイトル文字列の記載がある\n",
        "            title = linecache.getline(text_name, 3)\n",
        "            s = pd.Series([title, dic[cat]], index=datasets.columns)\n",
        "            datasets = datasets.append(s, ignore_index=True)\n",
        "\n",
        "    # データフレームシャッフル\n",
        "    print('\\n len : {}'.format(len(datasets)))\n",
        "    datasets = datasets.sample(frac=1).reset_index(drop=True)\n",
        "    datasets.head()\n",
        "\n",
        "    # PICKLE形式で保存\n",
        "    datasets.to_pickle(PICKLE_PATH)\n",
        "    print(PICKLE_PATH + ' is saved ...')"
      ],
      "execution_count": 13,
      "outputs": [
        {
          "output_type": "stream",
          "text": [
            "{'.ipynb_checkpoints': 9,\n",
            " 'dokujo-tsushin': 0,\n",
            " 'it-life-hack': 7,\n",
            " 'kaden-channel': 2,\n",
            " 'livedoor-homme': 1,\n",
            " 'movie-enter': 6,\n",
            " 'peachy': 5,\n",
            " 'smax': 3,\n",
            " 'sports-watch': 8,\n",
            " 'topic-news': 4}\n",
            "/content/drive/My Drive/git/LDCC/data/ldcc_idx.pkl is exists ... \n"
          ],
          "name": "stdout"
        }
      ]
    },
    {
      "cell_type": "code",
      "metadata": {
        "id": "wNehGOyCbfm1",
        "colab_type": "code",
        "colab": {}
      },
      "source": [
        "# PICKLE形式のDataFrameを読み込む\n",
        "df = pd.read_pickle(PICKLE_PATH)\n",
        "#datasets.head()"
      ],
      "execution_count": 0,
      "outputs": []
    },
    {
      "cell_type": "code",
      "metadata": {
        "id": "pb_ceW3yOF3D",
        "colab_type": "code",
        "outputId": "b5825a2d-ea2c-400e-8d4e-22a4bdc24280",
        "colab": {
          "base_uri": "https://localhost:8080/",
          "height": 240
        }
      },
      "source": [
        "#df = pd.read_csv('path/to/data/livedoor-news-data.tar.gz')\n",
        "#le = LabelEncoder()\n",
        "#df['label'] = le.fit_transform(df.label.values)\n",
        "#df = df[['text', 'label']]\n",
        "#df.columns = ['Text', 'Label']\n",
        "train_df, val_df = train_test_split(df, test_size=0.2, stratify=df.Label)\n",
        "print('train_df len : {}'.format(len(train_df)))\n",
        "print('val_df   len : {}'.format(len(val_df)))\n",
        "df.head()"
      ],
      "execution_count": 15,
      "outputs": [
        {
          "output_type": "stream",
          "text": [
            "train_df len : 3628\n",
            "val_df   len : 908\n"
          ],
          "name": "stdout"
        },
        {
          "output_type": "execute_result",
          "data": {
            "text/html": [
              "<div>\n",
              "<style scoped>\n",
              "    .dataframe tbody tr th:only-of-type {\n",
              "        vertical-align: middle;\n",
              "    }\n",
              "\n",
              "    .dataframe tbody tr th {\n",
              "        vertical-align: top;\n",
              "    }\n",
              "\n",
              "    .dataframe thead th {\n",
              "        text-align: right;\n",
              "    }\n",
              "</style>\n",
              "<table border=\"1\" class=\"dataframe\">\n",
              "  <thead>\n",
              "    <tr style=\"text-align: right;\">\n",
              "      <th></th>\n",
              "      <th>Text</th>\n",
              "      <th>Label</th>\n",
              "    </tr>\n",
              "  </thead>\n",
              "  <tbody>\n",
              "    <tr>\n",
              "      <th>0</th>\n",
              "      <td>欧州選手権開幕、ストイコビッチ監督の優勝国予想は？\\n</td>\n",
              "      <td>8</td>\n",
              "    </tr>\n",
              "    <tr>\n",
              "      <th>1</th>\n",
              "      <td>ラジオ英会話1年分を手のひらサイズに収録！SII電子辞書G6シリーズ【売れ筋チェック】\\n</td>\n",
              "      <td>2</td>\n",
              "    </tr>\n",
              "    <tr>\n",
              "      <th>2</th>\n",
              "      <td>充電中の青い光が美しい！　サンワサプライ「光るiPhone・iPad USBケーブル」【売れ...</td>\n",
              "      <td>2</td>\n",
              "    </tr>\n",
              "    <tr>\n",
              "      <th>3</th>\n",
              "      <td>いつまで経っても減らない迷惑メールに新法律が施行\\n</td>\n",
              "      <td>0</td>\n",
              "    </tr>\n",
              "    <tr>\n",
              "      <th>4</th>\n",
              "      <td>何が何でもiPhoneを守りたい人たちへ！　ハンマーでたたいても大丈夫な保護フィルム「ウルト...</td>\n",
              "      <td>2</td>\n",
              "    </tr>\n",
              "  </tbody>\n",
              "</table>\n",
              "</div>"
            ],
            "text/plain": [
              "                                                Text Label\n",
              "0                        欧州選手権開幕、ストイコビッチ監督の優勝国予想は？\\n     8\n",
              "1      ラジオ英会話1年分を手のひらサイズに収録！SII電子辞書G6シリーズ【売れ筋チェック】\\n     2\n",
              "2  充電中の青い光が美しい！　サンワサプライ「光るiPhone・iPad USBケーブル」【売れ...     2\n",
              "3                         いつまで経っても減らない迷惑メールに新法律が施行\\n     0\n",
              "4  何が何でもiPhoneを守りたい人たちへ！　ハンマーでたたいても大丈夫な保護フィルム「ウルト...     2"
            ]
          },
          "metadata": {
            "tags": []
          },
          "execution_count": 15
        }
      ]
    },
    {
      "cell_type": "code",
      "metadata": {
        "id": "ep8DBX_YOUbM",
        "colab_type": "code",
        "outputId": "c718feb7-0d18-4ceb-a318-7a5a1343f45a",
        "colab": {
          "base_uri": "https://localhost:8080/",
          "height": 35
        }
      },
      "source": [
        "SRC_PATH = \"/content/drive/My Drive/Colab Notebooks/checkpoint.pt\"\n",
        "DST_PATH = \"/content/drive/My Drive/git/model/bert-fine_tuning/checkpoint.pt\"\n",
        "MODEL_PATH_LABEL9 = \"/content/drive/My Drive/git/model/bert/base-japanese-whole-word-masking_label9/\"\n",
        "\n",
        "# checkpointファイルの保存場所指定\n",
        "%cd \"/content/drive/My Drive/Colab Notebooks\""
      ],
      "execution_count": 16,
      "outputs": [
        {
          "output_type": "stream",
          "text": [
            "/content/drive/My Drive/Colab Notebooks\n"
          ],
          "name": "stdout"
        }
      ]
    },
    {
      "cell_type": "markdown",
      "metadata": {
        "id": "tSbt7WXP957u",
        "colab_type": "text"
      },
      "source": [
        "### ファインチューニング\n",
        "- BertForSequenceClassification : 分類問題のためのクラス\n",
        "- ベースとするモデルは、bert-base-japanese-whole-word-masking\n",
        "- DocumentClassifier.__init__ で BertForSequenceClassification.from_pretrained を呼んでいる\n",
        "- from_pretrained時にnum_labelsを指定してあげることで、任意のクラス数の分類器ができる (デフォルトは2クラス分類器)\n"
      ]
    },
    {
      "cell_type": "code",
      "metadata": {
        "id": "n1jCf7kbOF3Y",
        "colab_type": "code",
        "outputId": "77eadaa5-9de0-496e-a4a9-a38745aa4eb7",
        "colab": {
          "base_uri": "https://localhost:8080/",
          "height": 35
        }
      },
      "source": [
        "if os.path.isfile(DST_PATH):\n",
        "    print('{} is exists ... '.format(DST_PATH))\n",
        "\n",
        "else:\n",
        "    print('fine tuning ...')\n",
        "\n",
        "    if os.path.isfile(MODEL_PATH_LABEL9 + 'pytorch_model.bin'):\n",
        "        print('loading model ... ')\n",
        "        model = clf.DocumentClassifier(num_labels=9, num_epochs=30, net_dir=MODEL_PATH_LABEL9)\n",
        "    else:\n",
        "        print('downloading model ... ')\n",
        "        model = clf.DocumentClassifier(num_labels=9, num_epochs=20)\n",
        "        print('saving model ... ')\n",
        "        model.net.save_pretrained(MODEL_PATH_LABEL9)\n",
        "\n",
        "    model.fit(train_df, val_df, early_stopping_rounds=10)\n",
        "    shutil.move(SRC_PATH, DST_PATH)\n",
        "\n",
        "    y_proba = model.predict(val_df)\n",
        "    pprint.pprint(y_proba)"
      ],
      "execution_count": 20,
      "outputs": [
        {
          "output_type": "stream",
          "text": [
            "/content/drive/My Drive/git/model/bert-fine_tuning/checkpoint.pt is exists ... \n"
          ],
          "name": "stdout"
        }
      ]
    },
    {
      "cell_type": "markdown",
      "metadata": {
        "id": "chA5GjQTCI8I",
        "colab_type": "text"
      },
      "source": [
        "### 評価"
      ]
    },
    {
      "cell_type": "code",
      "metadata": {
        "id": "LGy6fkaTFgQL",
        "colab_type": "code",
        "outputId": "a5611e7a-04dc-4dc7-ef91-6a6155ae860a",
        "colab": {
          "base_uri": "https://localhost:8080/",
          "height": 53
        }
      },
      "source": [
        "# checkpointファイルを読み込み、再度評価してみる\n",
        "print('load check point file ... {}'.format(DST_PATH))\n",
        "model = clf.DocumentClassifier(num_labels=9, num_epochs=30, net_dir=MODEL_PATH_LABEL9)\n",
        "model.net.load_state_dict(torch.load(DST_PATH))\n",
        "y_proba = model.predict(val_df)"
      ],
      "execution_count": 23,
      "outputs": [
        {
          "output_type": "stream",
          "text": [
            "load check point file ... /content/drive/My Drive/git/model/bert-fine_tuning/checkpoint.pt\n"
          ],
          "name": "stdout"
        },
        {
          "output_type": "execute_result",
          "data": {
            "text/plain": [
              "<All keys matched successfully>"
            ]
          },
          "metadata": {
            "tags": []
          },
          "execution_count": 23
        }
      ]
    },
    {
      "cell_type": "code",
      "metadata": {
        "id": "sSMpR5YMFf7j",
        "colab_type": "code",
        "outputId": "5a999b9e-d062-41ef-87d9-adeb78837183",
        "colab": {
          "base_uri": "https://localhost:8080/",
          "height": 269
        }
      },
      "source": [
        "print(y_proba.shape)\n",
        "pprint.pprint(y_proba)"
      ],
      "execution_count": 48,
      "outputs": [
        {
          "output_type": "stream",
          "text": [
            "(908, 9)\n",
            "array([[5.9125122e-02, 9.3192816e-01, 1.2986524e-03, ..., 2.0903891e-03,\n",
            "        5.1427813e-04, 5.9777155e-04],\n",
            "       [4.7177394e-04, 3.3920135e-02, 2.4679131e-04, ..., 9.5792055e-01,\n",
            "        2.8135037e-04, 4.5125815e-03],\n",
            "       [5.9825554e-04, 5.5243075e-04, 1.9002571e-03, ..., 3.8402868e-05,\n",
            "        1.4844959e-03, 3.3173020e-04],\n",
            "       ...,\n",
            "       [3.3444918e-05, 7.8308956e-05, 9.9885988e-01, ..., 2.0157124e-05,\n",
            "        6.6519465e-04, 6.4269836e-05],\n",
            "       [8.9946389e-04, 2.9945711e-03, 1.2151452e-04, ..., 9.9249274e-01,\n",
            "        2.7939957e-04, 1.2534753e-03],\n",
            "       [1.5380960e-04, 3.0288668e-03, 2.7486405e-03, ..., 2.4835108e-04,\n",
            "        9.9328929e-01, 6.3886117e-05]], dtype=float32)\n"
          ],
          "name": "stdout"
        }
      ]
    },
    {
      "cell_type": "markdown",
      "metadata": {
        "id": "pPdU9BqweYNC",
        "colab_type": "text"
      },
      "source": [
        "### 確認"
      ]
    },
    {
      "cell_type": "code",
      "metadata": {
        "id": "k3EUUor0yHrn",
        "colab_type": "code",
        "colab": {
          "base_uri": "https://localhost:8080/",
          "height": 204
        },
        "outputId": "568367ea-92c6-4379-e946-59709f679348"
      },
      "source": [
        "# 'dokujo-tsushin': 0,\n",
        "# 'livedoor-homme': 1,\n",
        "# 'kaden-channel': 2,\n",
        "# 'smax': 3,\n",
        "# 'topic-news': 4\n",
        "# 'peachy': 5,\n",
        "# 'movie-enter': 6,\n",
        "# 'it-life-hack': 7,\n",
        "# 'sports-watch': 8,\n",
        "val_df.head()"
      ],
      "execution_count": 42,
      "outputs": [
        {
          "output_type": "execute_result",
          "data": {
            "text/html": [
              "<div>\n",
              "<style scoped>\n",
              "    .dataframe tbody tr th:only-of-type {\n",
              "        vertical-align: middle;\n",
              "    }\n",
              "\n",
              "    .dataframe tbody tr th {\n",
              "        vertical-align: top;\n",
              "    }\n",
              "\n",
              "    .dataframe thead th {\n",
              "        text-align: right;\n",
              "    }\n",
              "</style>\n",
              "<table border=\"1\" class=\"dataframe\">\n",
              "  <thead>\n",
              "    <tr style=\"text-align: right;\">\n",
              "      <th></th>\n",
              "      <th>Text</th>\n",
              "      <th>Label</th>\n",
              "    </tr>\n",
              "  </thead>\n",
              "  <tbody>\n",
              "    <tr>\n",
              "      <th>2822</th>\n",
              "      <td>ビジネスマン必読の新書「ビジネス服薬術」が出版、第一印象と心に効くファッションとは？\\n</td>\n",
              "      <td>1</td>\n",
              "    </tr>\n",
              "    <tr>\n",
              "      <th>2454</th>\n",
              "      <td>インタビュー：リン・コリンズ「現代にはヒーローが求められている」\\n</td>\n",
              "      <td>6</td>\n",
              "    </tr>\n",
              "    <tr>\n",
              "      <th>966</th>\n",
              "      <td>NTTドコモ、MEDIAS PP N-01Dにてマナーモード設定時に音声着信を応答保留にする...</td>\n",
              "      <td>3</td>\n",
              "    </tr>\n",
              "    <tr>\n",
              "      <th>2819</th>\n",
              "      <td>夏に多発！下着チラみせ独女はアリかナシか？\\n</td>\n",
              "      <td>0</td>\n",
              "    </tr>\n",
              "    <tr>\n",
              "      <th>2578</th>\n",
              "      <td>北乃きい、東日本大震災が起きて感じたこと\\n</td>\n",
              "      <td>6</td>\n",
              "    </tr>\n",
              "  </tbody>\n",
              "</table>\n",
              "</div>"
            ],
            "text/plain": [
              "                                                   Text Label\n",
              "2822       ビジネスマン必読の新書「ビジネス服薬術」が出版、第一印象と心に効くファッションとは？\\n     1\n",
              "2454                 インタビュー：リン・コリンズ「現代にはヒーローが求められている」\\n     6\n",
              "966   NTTドコモ、MEDIAS PP N-01Dにてマナーモード設定時に音声着信を応答保留にする...     3\n",
              "2819                            夏に多発！下着チラみせ独女はアリかナシか？\\n     0\n",
              "2578                             北乃きい、東日本大震災が起きて感じたこと\\n     6"
            ]
          },
          "metadata": {
            "tags": []
          },
          "execution_count": 42
        }
      ]
    },
    {
      "cell_type": "code",
      "metadata": {
        "id": "9xjSjJXCfrrX",
        "colab_type": "code",
        "colab": {
          "base_uri": "https://localhost:8080/",
          "height": 125
        },
        "outputId": "813d30c3-78b1-44b4-eec6-8a85715a4180"
      },
      "source": [
        "print('idx\\tLabel\\tprobability')\n",
        "for i, j in enumerate(range(0,5)):\n",
        "    ret = max(enumerate(y_proba[j]), key = lambda x:x[1])\n",
        "    print('{}\\t{}\\t{}'.format(i, ret[0], ret[1]))"
      ],
      "execution_count": 58,
      "outputs": [
        {
          "output_type": "stream",
          "text": [
            "idx\tLabel\tprobability\n",
            "0\t1\t0.9319281578063965\n",
            "1\t6\t0.9579205513000488\n",
            "2\t3\t0.988389253616333\n",
            "3\t0\t0.9574654698371887\n",
            "4\t4\t0.384769469499588\n"
          ],
          "name": "stdout"
        }
      ]
    },
    {
      "cell_type": "code",
      "metadata": {
        "id": "7TpesN3EHHjD",
        "colab_type": "code",
        "colab": {}
      },
      "source": [
        ""
      ],
      "execution_count": 0,
      "outputs": []
    }
  ]
}